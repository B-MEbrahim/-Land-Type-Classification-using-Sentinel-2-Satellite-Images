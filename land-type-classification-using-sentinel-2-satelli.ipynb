{
 "cells": [
  {
   "cell_type": "code",
   "execution_count": 1,
   "id": "13525a9c",
   "metadata": {
    "execution": {
     "iopub.execute_input": "2025-04-14T17:28:01.413901Z",
     "iopub.status.busy": "2025-04-14T17:28:01.413608Z",
     "iopub.status.idle": "2025-04-14T17:28:05.309649Z",
     "shell.execute_reply": "2025-04-14T17:28:05.308566Z"
    },
    "papermill": {
     "duration": 3.902696,
     "end_time": "2025-04-14T17:28:05.311371",
     "exception": false,
     "start_time": "2025-04-14T17:28:01.408675",
     "status": "completed"
    },
    "tags": []
   },
   "outputs": [],
   "source": [
    "%%capture\n",
    "!pip install rasterio"
   ]
  },
  {
   "cell_type": "code",
   "execution_count": 2,
   "id": "6c9c12ac",
   "metadata": {
    "execution": {
     "iopub.execute_input": "2025-04-14T17:28:05.319323Z",
     "iopub.status.busy": "2025-04-14T17:28:05.319016Z",
     "iopub.status.idle": "2025-04-14T17:28:06.311662Z",
     "shell.execute_reply": "2025-04-14T17:28:06.310853Z"
    },
    "papermill": {
     "duration": 0.998273,
     "end_time": "2025-04-14T17:28:06.313398",
     "exception": false,
     "start_time": "2025-04-14T17:28:05.315125",
     "status": "completed"
    },
    "tags": []
   },
   "outputs": [],
   "source": [
    "import numpy as np\n",
    "import pandas as pd\n",
    "import matplotlib.pyplot as plt"
   ]
  },
  {
   "cell_type": "markdown",
   "id": "d3cd6a24",
   "metadata": {
    "papermill": {
     "duration": 0.002998,
     "end_time": "2025-04-14T17:28:06.319819",
     "exception": false,
     "start_time": "2025-04-14T17:28:06.316821",
     "status": "completed"
    },
    "tags": []
   },
   "source": [
    "## Milestone 1: Data Collection, Exploration, and Preprocessing "
   ]
  },
  {
   "cell_type": "markdown",
   "id": "fa447bbc",
   "metadata": {
    "papermill": {
     "duration": 0.002786,
     "end_time": "2025-04-14T17:28:06.325657",
     "exception": false,
     "start_time": "2025-04-14T17:28:06.322871",
     "status": "completed"
    },
    "tags": []
   },
   "source": [
    "### 2. Data Exploration:"
   ]
  },
  {
   "cell_type": "markdown",
   "id": "30ab4d3f",
   "metadata": {
    "papermill": {
     "duration": 0.002768,
     "end_time": "2025-04-14T17:28:06.331444",
     "exception": false,
     "start_time": "2025-04-14T17:28:06.328676",
     "status": "completed"
    },
    "tags": []
   },
   "source": [
    "#### 1 Perform exploratory data analysis (EDA) to understand the composition of the images, \n",
    "including the number of bands and their relevance to land type classification. \n",
    "### Needed Bands:\n",
    "[Sentinel 2 Bands and Combinations](https://gisgeography.com/sentinel-2-bands-combinations/)"
   ]
  },
  {
   "cell_type": "markdown",
   "id": "fe6452ed",
   "metadata": {
    "papermill": {
     "duration": 0.002766,
     "end_time": "2025-04-14T17:28:06.337245",
     "exception": false,
     "start_time": "2025-04-14T17:28:06.334479",
     "status": "completed"
    },
    "tags": []
   },
   "source": [
    "### Load the data\n",
    "#### 2 Inspect the dataset for potential issues, such as imbalanced classes, missing data, or mislabeled images.\n",
    "- Class Imbalance: Check if some land types have significantly more images than others.\n",
    "- \n",
    "*Solution:* Use data augmentation."
   ]
  },
  {
   "cell_type": "markdown",
   "id": "af30cdff",
   "metadata": {
    "papermill": {
     "duration": 0.00276,
     "end_time": "2025-04-14T17:28:06.342852",
     "exception": false,
     "start_time": "2025-04-14T17:28:06.340092",
     "status": "completed"
    },
    "tags": []
   },
   "source": [
    "## Data Augmention and Loading"
   ]
  },
  {
   "cell_type": "code",
   "execution_count": 3,
   "id": "248e3182",
   "metadata": {
    "execution": {
     "iopub.execute_input": "2025-04-14T17:28:06.350014Z",
     "iopub.status.busy": "2025-04-14T17:28:06.349556Z",
     "iopub.status.idle": "2025-04-14T17:28:06.443260Z",
     "shell.execute_reply": "2025-04-14T17:28:06.442499Z"
    },
    "papermill": {
     "duration": 0.099239,
     "end_time": "2025-04-14T17:28:06.444920",
     "exception": false,
     "start_time": "2025-04-14T17:28:06.345681",
     "status": "completed"
    },
    "tags": []
   },
   "outputs": [],
   "source": [
    "# All bands images path\n",
    "data_path = '/kaggle/input/eurosat-dataset/EuroSATallBands/'\n",
    "\n",
    "# Opening the Dataframes\n",
    "train_df = pd.read_csv(data_path + 'train.csv')\n",
    "test_df = pd.read_csv(data_path + 'test.csv')\n",
    "validation_df = pd.read_csv(data_path + 'validation.csv')\n",
    "\n",
    "# Converting 'Label' col to string in the dataframes to encode them\n",
    "train_df['Label'] = train_df['Label'].astype(str)\n",
    "validation_df['Label'] = validation_df['Label'].astype(str)\n",
    "test_df['Label'] = test_df['Label'].astype(str)"
   ]
  },
  {
   "cell_type": "code",
   "execution_count": 4,
   "id": "653595af",
   "metadata": {
    "execution": {
     "iopub.execute_input": "2025-04-14T17:28:06.452490Z",
     "iopub.status.busy": "2025-04-14T17:28:06.452110Z",
     "iopub.status.idle": "2025-04-14T17:28:22.218633Z",
     "shell.execute_reply": "2025-04-14T17:28:22.217538Z"
    },
    "papermill": {
     "duration": 15.772327,
     "end_time": "2025-04-14T17:28:22.220559",
     "exception": false,
     "start_time": "2025-04-14T17:28:06.448232",
     "status": "completed"
    },
    "tags": []
   },
   "outputs": [],
   "source": [
    "from tensorflow.keras.preprocessing.image import ImageDataGenerator"
   ]
  },
  {
   "cell_type": "markdown",
   "id": "cc8db68b",
   "metadata": {
    "papermill": {
     "duration": 0.003003,
     "end_time": "2025-04-14T17:28:22.226963",
     "exception": false,
     "start_time": "2025-04-14T17:28:22.223960",
     "status": "completed"
    },
    "tags": []
   },
   "source": [
    "### Train Data Generator\n"
   ]
  },
  {
   "cell_type": "code",
   "execution_count": 5,
   "id": "61ca397a",
   "metadata": {
    "execution": {
     "iopub.execute_input": "2025-04-14T17:28:22.234290Z",
     "iopub.status.busy": "2025-04-14T17:28:22.233766Z",
     "iopub.status.idle": "2025-04-14T17:29:24.355431Z",
     "shell.execute_reply": "2025-04-14T17:29:24.354617Z"
    },
    "papermill": {
     "duration": 62.127096,
     "end_time": "2025-04-14T17:29:24.357150",
     "exception": false,
     "start_time": "2025-04-14T17:28:22.230054",
     "status": "completed"
    },
    "tags": []
   },
   "outputs": [
    {
     "name": "stdout",
     "output_type": "stream",
     "text": [
      "Found 19317 validated image filenames belonging to 10 classes.\n"
     ]
    }
   ],
   "source": [
    "train_datagen = ImageDataGenerator(\n",
    "    rescale=1./255,       # Ensures that pixel values are normalized\n",
    "    zoom_range=0.2,       # Specifies the range for random zoom.\n",
    "    horizontal_flip=True, # Enables random horizontal flipping.\n",
    "    vertical_flip=True,   # Enables random vertical flipping.\n",
    "    rotation_range=40,    # Specifies the range (in degrees) for random rotations. \n",
    "    shear_range=20,       # Specifies the shear intensity (in degrees).\n",
    "    fill_mode='nearest'   # Determines how to fill in pixels that are created during transformations.\n",
    ")\n",
    "\n",
    "train_generator = train_datagen.flow_from_dataframe(\n",
    "    dataframe=train_df,   # The Pandas DataFrame containing the image metadata\n",
    "    directory=data_path,  # The path to the directory where the images are stored.\n",
    "    x_col='Filename',     # The column name in the DataFrame that specifies the image file names or paths.\n",
    "    y_col='Label',        # The column name in the DataFrame that specifies the labels for the images.\n",
    "    target_size=(64, 64), # The dimensions to resize your images to\n",
    "    batch_size=32,        # The number of images to process in each batch.\n",
    "    class_mode='sparse',  # etermines how labels are returned.\n",
    "    shuffle=True\n",
    ")"
   ]
  },
  {
   "cell_type": "markdown",
   "id": "8b8d37c9",
   "metadata": {
    "papermill": {
     "duration": 0.002985,
     "end_time": "2025-04-14T17:29:24.364000",
     "exception": false,
     "start_time": "2025-04-14T17:29:24.361015",
     "status": "completed"
    },
    "tags": []
   },
   "source": [
    "### Validation Data Generator"
   ]
  },
  {
   "cell_type": "code",
   "execution_count": 6,
   "id": "3cc1981e",
   "metadata": {
    "execution": {
     "iopub.execute_input": "2025-04-14T17:29:24.371300Z",
     "iopub.status.busy": "2025-04-14T17:29:24.371003Z",
     "iopub.status.idle": "2025-04-14T17:29:43.671995Z",
     "shell.execute_reply": "2025-04-14T17:29:43.671189Z"
    },
    "papermill": {
     "duration": 19.306359,
     "end_time": "2025-04-14T17:29:43.673507",
     "exception": false,
     "start_time": "2025-04-14T17:29:24.367148",
     "status": "completed"
    },
    "tags": []
   },
   "outputs": [
    {
     "name": "stdout",
     "output_type": "stream",
     "text": [
      "Found 5519 validated image filenames belonging to 10 classes.\n"
     ]
    }
   ],
   "source": [
    "validation_datagen = ImageDataGenerator(rescale=1./255)\n",
    "\n",
    "validation_generator = validation_datagen.flow_from_dataframe(\n",
    "    dataframe=validation_df,\n",
    "    directory=data_path,\n",
    "    x_col='Filename',\n",
    "    y_col='Label',\n",
    "    traget_size=(64, 64),\n",
    "    batch_size=32,\n",
    "    class_mode='sparse'\n",
    ")"
   ]
  },
  {
   "cell_type": "markdown",
   "id": "cb3de6c7",
   "metadata": {
    "papermill": {
     "duration": 0.00298,
     "end_time": "2025-04-14T17:29:43.679840",
     "exception": false,
     "start_time": "2025-04-14T17:29:43.676860",
     "status": "completed"
    },
    "tags": []
   },
   "source": [
    "### Test Data Generator"
   ]
  },
  {
   "cell_type": "code",
   "execution_count": 7,
   "id": "74ff6358",
   "metadata": {
    "execution": {
     "iopub.execute_input": "2025-04-14T17:29:43.687133Z",
     "iopub.status.busy": "2025-04-14T17:29:43.686821Z",
     "iopub.status.idle": "2025-04-14T17:29:51.930166Z",
     "shell.execute_reply": "2025-04-14T17:29:51.929026Z"
    },
    "papermill": {
     "duration": 8.248817,
     "end_time": "2025-04-14T17:29:51.931783",
     "exception": false,
     "start_time": "2025-04-14T17:29:43.682966",
     "status": "completed"
    },
    "tags": []
   },
   "outputs": [
    {
     "name": "stdout",
     "output_type": "stream",
     "text": [
      "Found 2759 validated image filenames belonging to 10 classes.\n"
     ]
    }
   ],
   "source": [
    "test_datagen = ImageDataGenerator(rescale=1./255)\n",
    "\n",
    "test_generator = test_datagen.flow_from_dataframe(\n",
    "    dataframe=test_df,\n",
    "    directory=data_path,\n",
    "    x_col='Filename',\n",
    "    y_col='Label',\n",
    "    traget_size=(64, 64),\n",
    "    batch_size=32,\n",
    "    class_mode='sparse'\n",
    ")"
   ]
  },
  {
   "cell_type": "code",
   "execution_count": null,
   "id": "432e99a5",
   "metadata": {
    "papermill": {
     "duration": 0.002993,
     "end_time": "2025-04-14T17:29:51.938054",
     "exception": false,
     "start_time": "2025-04-14T17:29:51.935061",
     "status": "completed"
    },
    "tags": []
   },
   "outputs": [],
   "source": []
  }
 ],
 "metadata": {
  "kaggle": {
   "accelerator": "nvidiaTeslaT4",
   "dataSources": [
    {
     "datasetId": 918039,
     "sourceId": 1663377,
     "sourceType": "datasetVersion"
    }
   ],
   "dockerImageVersionId": 30918,
   "isGpuEnabled": true,
   "isInternetEnabled": true,
   "language": "python",
   "sourceType": "notebook"
  },
  "kernelspec": {
   "display_name": "Python 3",
   "language": "python",
   "name": "python3"
  },
  "language_info": {
   "codemirror_mode": {
    "name": "ipython",
    "version": 3
   },
   "file_extension": ".py",
   "mimetype": "text/x-python",
   "name": "python",
   "nbconvert_exporter": "python",
   "pygments_lexer": "ipython3",
   "version": "3.10.12"
  },
  "papermill": {
   "default_parameters": {},
   "duration": 116.064621,
   "end_time": "2025-04-14T17:29:54.243067",
   "environment_variables": {},
   "exception": null,
   "input_path": "__notebook__.ipynb",
   "output_path": "__notebook__.ipynb",
   "parameters": {},
   "start_time": "2025-04-14T17:27:58.178446",
   "version": "2.6.0"
  }
 },
 "nbformat": 4,
 "nbformat_minor": 5
}
